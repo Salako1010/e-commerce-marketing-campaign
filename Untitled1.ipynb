{
  "cells": [
    {
      "cell_type": "markdown",
      "metadata": {
        "id": "view-in-github",
        "colab_type": "text"
      },
      "source": [
        "<a href=\"https://colab.research.google.com/github/Salako1010/e-commerce-marketing-campaign/blob/main/Untitled1.ipynb\" target=\"_parent\"><img src=\"https://colab.research.google.com/assets/colab-badge.svg\" alt=\"Open In Colab\"/></a>"
      ]
    },
    {
      "cell_type": "code",
      "execution_count": null,
      "id": "aea7bb8b-dc62-4b5b-8baf-0c01802349a3",
      "metadata": {
        "id": "aea7bb8b-dc62-4b5b-8baf-0c01802349a3"
      },
      "outputs": [],
      "source": [
        "import pandas as pd\n",
        "import matplotlib.pyplot as plt\n",
        "import seaborn as sns\n",
        "from scipy.stats import ttest_ind"
      ]
    },
    {
      "cell_type": "code",
      "execution_count": null,
      "id": "e46b13a3-eef5-49da-803a-295efd22fa47",
      "metadata": {
        "id": "e46b13a3-eef5-49da-803a-295efd22fa47"
      },
      "outputs": [],
      "source": [
        "df = pd.read_csv(r\"C:\\Users\\user\\Downloads\\marketing_AB.csv\")"
      ]
    },
    {
      "cell_type": "code",
      "execution_count": null,
      "id": "11a23112-8d95-47d2-9a0a-f4d6dc4f558c",
      "metadata": {
        "id": "11a23112-8d95-47d2-9a0a-f4d6dc4f558c",
        "outputId": "fa5aeb9b-9be8-48c5-847e-0261790e67d3"
      },
      "outputs": [
        {
          "name": "stdout",
          "output_type": "stream",
          "text": [
            "<class 'pandas.core.frame.DataFrame'>\n",
            "RangeIndex: 588101 entries, 0 to 588100\n",
            "Data columns (total 7 columns):\n",
            " #   Column         Non-Null Count   Dtype \n",
            "---  ------         --------------   ----- \n",
            " 0   Unnamed: 0     588101 non-null  int64 \n",
            " 1   user id        588101 non-null  int64 \n",
            " 2   test group     588101 non-null  object\n",
            " 3   converted      588101 non-null  bool  \n",
            " 4   total ads      588101 non-null  int64 \n",
            " 5   most ads day   588101 non-null  object\n",
            " 6   most ads hour  588101 non-null  int64 \n",
            "dtypes: bool(1), int64(4), object(2)\n",
            "memory usage: 27.5+ MB\n"
          ]
        }
      ],
      "source": [
        "df.info()"
      ]
    },
    {
      "cell_type": "code",
      "execution_count": null,
      "id": "2f341e47-ca14-47ae-96d8-2f301169bb2c",
      "metadata": {
        "id": "2f341e47-ca14-47ae-96d8-2f301169bb2c",
        "outputId": "dc3b02e9-02ad-4316-8978-8db9ba14fe26"
      },
      "outputs": [
        {
          "name": "stdout",
          "output_type": "stream",
          "text": [
            "Preview of data:\n",
            "   Unnamed: 0  user id test group  converted  total ads most ads day  \\\n",
            "0           0  1069124         ad      False        130       Monday   \n",
            "1           1  1119715         ad      False         93      Tuesday   \n",
            "2           2  1144181         ad      False         21      Tuesday   \n",
            "3           3  1435133         ad      False        355      Tuesday   \n",
            "4           4  1015700         ad      False        276       Friday   \n",
            "\n",
            "   most ads hour  \n",
            "0             20  \n",
            "1             22  \n",
            "2             18  \n",
            "3             10  \n",
            "4             14  \n"
          ]
        }
      ],
      "source": [
        "# Display the first few rows\n",
        "print(\"Preview of data:\")\n",
        "print(df.head())"
      ]
    },
    {
      "cell_type": "code",
      "execution_count": null,
      "id": "fd4dd7ee-e098-4143-9cc4-2da14364c616",
      "metadata": {
        "id": "fd4dd7ee-e098-4143-9cc4-2da14364c616",
        "outputId": "d480a6d8-4ed8-43fe-d4d9-605d9327124b"
      },
      "outputs": [
        {
          "name": "stdout",
          "output_type": "stream",
          "text": [
            "\n",
            "Missing Values:\n",
            "Unnamed: 0       0\n",
            "user id          0\n",
            "test group       0\n",
            "converted        0\n",
            "total ads        0\n",
            "most ads day     0\n",
            "most ads hour    0\n",
            "dtype: int64\n"
          ]
        }
      ],
      "source": [
        "# Check for missing values\n",
        "print(\"\\nMissing Values:\")\n",
        "print(df.isnull().sum())"
      ]
    },
    {
      "cell_type": "code",
      "execution_count": null,
      "id": "f27bff5e-7111-4bff-90e4-f580c74ad19a",
      "metadata": {
        "id": "f27bff5e-7111-4bff-90e4-f580c74ad19a",
        "outputId": "5bde6e08-53e8-4602-9d67-c85f9133352f"
      },
      "outputs": [
        {
          "name": "stdout",
          "output_type": "stream",
          "text": [
            "\n",
            "Conversion Rates by Group:\n",
            "test group\n",
            "ad     0.025547\n",
            "psa    0.017854\n",
            "Name: converted, dtype: float64\n"
          ]
        }
      ],
      "source": [
        "# Conversion rate by test group\n",
        "print(\"\\nConversion Rates by Group:\")\n",
        "conversion_rates = df.groupby('test group')['converted'].mean()\n",
        "print(conversion_rates)"
      ]
    },
    {
      "cell_type": "code",
      "execution_count": null,
      "id": "3f5f43c3-5ae7-4b51-acf1-8802ac391e46",
      "metadata": {
        "id": "3f5f43c3-5ae7-4b51-acf1-8802ac391e46",
        "outputId": "73343690-a931-4dbf-93f2-e95566d1648a"
      },
      "outputs": [
        {
          "name": "stdout",
          "output_type": "stream",
          "text": [
            "Control Group:\n",
            "18     False\n",
            "38     False\n",
            "68     False\n",
            "140    False\n",
            "157    False\n",
            "Name: converted, dtype: bool\n",
            "\n",
            "Experimental Group:\n",
            "0    False\n",
            "1    False\n",
            "2    False\n",
            "3    False\n",
            "4    False\n",
            "Name: converted, dtype: bool\n"
          ]
        }
      ],
      "source": [
        "# split groups\n",
        "control = df[df['test group'] == 'psa']['converted']\n",
        "experiment = df[df['test group'] == 'ad']['converted']\n",
        "\n",
        "# View the output\n",
        "print(\"Control Group:\")\n",
        "print(control.head())  # shows the first few values\n",
        "\n",
        "print(\"\\nExperimental Group:\")\n",
        "print(experiment.head())  # shows the first few values"
      ]
    },
    {
      "cell_type": "code",
      "execution_count": null,
      "id": "56f374e8-07a2-4402-a343-1b1e222d3bb7",
      "metadata": {
        "id": "56f374e8-07a2-4402-a343-1b1e222d3bb7",
        "outputId": "5c60f746-c930-4399-b0be-1ea074935ef8"
      },
      "outputs": [
        {
          "name": "stdout",
          "output_type": "stream",
          "text": [
            "\n",
            "T-Test Results:\n",
            "T-statistic: -7.37040597428566\n",
            "P-value: 1.7033052627831264e-13\n",
            "The difference in conversion is statistically significant.\n"
          ]
        }
      ],
      "source": [
        "# Hypothesis Testing\n",
        "t_stat, p_value = ttest_ind(control, experiment)\n",
        "print(\"\\nT-Test Results:\")\n",
        "print(f\"T-statistic: {t_stat}\")\n",
        "print(f\"P-value: {p_value}\")\n",
        "\n",
        "if p_value < 0.05:\n",
        "    print(\"The difference in conversion is statistically significant.\")\n",
        "else:\n",
        "    print(\"The difference in conversion is not statistically significant.\")"
      ]
    },
    {
      "cell_type": "code",
      "execution_count": null,
      "id": "3f9dc69b-8aa8-46e2-b922-dda952e0e0d5",
      "metadata": {
        "id": "3f9dc69b-8aa8-46e2-b922-dda952e0e0d5",
        "outputId": "11c14d79-0078-4ef3-dae4-d25dd38910ac"
      },
      "outputs": [
        {
          "name": "stdout",
          "output_type": "stream",
          "text": [
            "\n",
            "Estimated Experimental Group Revenue: $288460.00\n",
            "Estimated Control Group Revenue: $8400.00\n"
          ]
        }
      ],
      "source": [
        "# Estimate Revenue (assume $20 per conversion)\n",
        "avg_revenue = 20\n",
        "exp_revenue = experiment.mean() * len(experiment) * avg_revenue\n",
        "ctrl_revenue = control.mean() * len(control) * avg_revenue\n",
        "\n",
        "print(f\"\\nEstimated Experimental Group Revenue: ${exp_revenue:.2f}\")\n",
        "print(f\"Estimated Control Group Revenue: ${ctrl_revenue:.2f}\")"
      ]
    },
    {
      "cell_type": "code",
      "execution_count": null,
      "id": "a3003e96-92d0-4298-ad72-db3fa5eb14b8",
      "metadata": {
        "id": "a3003e96-92d0-4298-ad72-db3fa5eb14b8",
        "outputId": "c5b02057-78a5-4e49-9e9e-24065858e873"
      },
      "outputs": [
        {
          "data": {
            "image/png": "[encoded data removed]",
            "text/plain": [
              "<Figure size 800x400 with 1 Axes>"
            ]
          },
          "metadata": {},
          "output_type": "display_data"
        }
      ],
      "source": [
        "# Visualizations\n",
        "\n",
        "# Distribution of ads seen\n",
        "plt.figure(figsize=(8, 4))\n",
        "sns.histplot(df['total ads'], kde=True)\n",
        "plt.title(\"Distribution of Total Ads Seen\")\n",
        "plt.xlabel(\"Total Ads\")\n",
        "plt.ylabel(\"Frequency\")\n",
        "plt.tight_layout()\n",
        "plt.show()"
      ]
    },
    {
      "cell_type": "code",
      "execution_count": null,
      "id": "d720751f-5912-4951-ae5d-409a6288f937",
      "metadata": {
        "id": "d720751f-5912-4951-ae5d-409a6288f937",
        "outputId": "ea6bc537-3571-441d-ff29-becb766c1ffd"
      },
      "outputs": [
        {
          "data": {
            "image/png": "[encoded data removed]",
            "text/plain": [
              "<Figure size 800x400 with 1 Axes>"
            ]
          },
          "metadata": {},
          "output_type": "display_data"
        }
      ],
      "source": [
        "# Conversion rate by hour\n",
        "plt.figure(figsize=(8, 4))\n",
        "hourly = df.groupby('most ads hour')['converted'].mean()\n",
        "hourly.plot(kind='bar', color='skyblue')\n",
        "plt.title(\"Conversion Rate by Hour\")\n",
        "plt.xlabel(\"Hour of Day\")\n",
        "plt.ylabel(\"Conversion Rate\")\n",
        "plt.tight_layout()\n",
        "plt.show()"
      ]
    },
    {
      "cell_type": "markdown",
      "id": "51c41982-d38e-401d-974c-5e73202931b0",
      "metadata": {
        "id": "51c41982-d38e-401d-974c-5e73202931b0"
      },
      "source": [
        "<!-- Report -->"
      ]
    },
    {
      "cell_type": "markdown",
      "id": "c5a79c42-dced-4ad4-ba25-40a373ae40cb",
      "metadata": {
        "id": "c5a79c42-dced-4ad4-ba25-40a373ae40cb"
      },
      "source": [
        "1. Was the ad campaign successful?\n",
        "Yes, the ad campaign was successful. The experimental group (exposed to ads) generated an estimated revenue of $288,460, significantly higher than the $8,400 generated by the control group (who saw a PSA or no ad). This substantial revenue difference indicates that the ads positively influenced user conversions.\n",
        "\n",
        "2. Was the conversion rate significantly better?\n",
        "Yes. The conversion rate in the experimental group was statistically significantly better than the control group.\n",
        "A t-test yielded a t-statistic of -7.37 and a p-value of 1.70e-13, which is far below the common significance threshold of 0.05. This confirms that the observed difference in conversion rates is not due to chance, and the ad campaign had a meaningful impact.\n",
        "\n"
      ]
    },
    {
      "cell_type": "code",
      "execution_count": null,
      "id": "08c07e0e-dfa6-4c29-8fea-b12b85b0780e",
      "metadata": {
        "id": "08c07e0e-dfa6-4c29-8fea-b12b85b0780e"
      },
      "outputs": [],
      "source": []
    },
    {
      "cell_type": "code",
      "execution_count": null,
      "id": "43cfa177-83d3-40f9-8e20-707f5d2dcd6d",
      "metadata": {
        "id": "43cfa177-83d3-40f9-8e20-707f5d2dcd6d"
      },
      "outputs": [],
      "source": []
    },
    {
      "cell_type": "code",
      "execution_count": null,
      "id": "09b136eb-25c7-4c4c-a617-7f2d86a7e84f",
      "metadata": {
        "id": "09b136eb-25c7-4c4c-a617-7f2d86a7e84f"
      },
      "outputs": [],
      "source": []
    },
    {
      "cell_type": "code",
      "execution_count": null,
      "id": "f86c8643-4dcf-4978-bf62-1b7186bf8994",
      "metadata": {
        "id": "f86c8643-4dcf-4978-bf62-1b7186bf8994"
      },
      "outputs": [],
      "source": []
    },
    {
      "cell_type": "code",
      "execution_count": null,
      "id": "1b03ad04-f528-4189-b233-5b795dad7784",
      "metadata": {
        "id": "1b03ad04-f528-4189-b233-5b795dad7784"
      },
      "outputs": [],
      "source": []
    }
  ],
  "metadata": {
    "kernelspec": {
      "display_name": "Python [conda env:base] *",
      "language": "python",
      "name": "conda-base-py"
    },
    "language_info": {
      "codemirror_mode": {
        "name": "ipython",
        "version": 3
      },
      "file_extension": ".py",
      "mimetype": "text/x-python",
      "name": "python",
      "nbconvert_exporter": "python",
      "pygments_lexer": "ipython3",
      "version": "3.12.7"
    },
    "colab": {
      "provenance": [],
      "include_colab_link": true
    }
  },
  "nbformat": 4,
  "nbformat_minor": 5
}